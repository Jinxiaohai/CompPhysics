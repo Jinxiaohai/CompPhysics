{
 "metadata": {},
 "nbformat": 3,
 "nbformat_minor": 0,
 "worksheets": [
  {
   "cells": [
    {
     "cell_type": "markdown",
     "metadata": {},
     "source": [
      "# Slides from FYS-KJM4411/9411 Variational Monte Carlo methods\n",
      "**Spring 2015**\n",
      "\n",
      "### Quantum Monte Carlo Motivation\n",
      "Given a hamiltonian $H$ and a trial wave function $\\Psi_T$, the variational principle states that the expectation value of $\\langle H \\rangle$, defined through"
     ]
    },
    {
     "cell_type": "markdown",
     "metadata": {},
     "source": [
      "$$\n",
      "E[H]= \\langle H \\rangle =\n",
      "   \\frac{\\int d\\boldsymbol{R}\\Psi^{\\ast}_T(\\boldsymbol{R})H(\\boldsymbol{R})\\Psi_T(\\boldsymbol{R})}\n",
      "        {\\int d\\boldsymbol{R}\\Psi^{\\ast}_T(\\boldsymbol{R})\\Psi_T(\\boldsymbol{R})},\n",
      "$$"
     ]
    },
    {
     "cell_type": "markdown",
     "metadata": {},
     "source": [
      "is an upper bound to the ground state energy $E_0$ of the hamiltonian $H$, that is"
     ]
    },
    {
     "cell_type": "markdown",
     "metadata": {},
     "source": [
      "$$\n",
      "E_0 \\le \\langle H \\rangle .\n",
      "$$"
     ]
    },
    {
     "cell_type": "markdown",
     "metadata": {},
     "source": [
      "In general, the integrals involved in the calculation of various  expectation values  are multi-dimensional ones. Traditional integration methods such as the Gauss-Legendre will not be adequate for say the  computation of the energy of a many-body system.\n",
      "\n",
      "\n",
      "\n",
      "### Quantum Monte Carlo Motivation\n",
      "The trial wave function can be expanded in the eigenstates of the hamiltonian since they form a complete set, viz.,"
     ]
    },
    {
     "cell_type": "markdown",
     "metadata": {},
     "source": [
      "$$\n",
      "\\Psi_T(\\boldsymbol{R})=\\sum_i a_i\\Psi_i(\\boldsymbol{R}),\n",
      "$$"
     ]
    },
    {
     "cell_type": "markdown",
     "metadata": {},
     "source": [
      "and assuming the set of eigenfunctions to be normalized one obtains"
     ]
    },
    {
     "cell_type": "markdown",
     "metadata": {},
     "source": [
      "$$\n",
      "\\frac{\\sum_{nm}a^*_ma_n \\int d\\boldsymbol{R}\\Psi^{\\ast}_m(\\boldsymbol{R})H(\\boldsymbol{R})\\Psi_n(\\boldsymbol{R})}\n",
      "        {\\sum_{nm}a^*_ma_n \\int d\\boldsymbol{R}\\Psi^{\\ast}_m(\\boldsymbol{R})\\Psi_n(\\boldsymbol{R})} =\\frac{\\sum_{n}a^2_n E_n}\n",
      "        {\\sum_{n}a^2_n} \\ge E_0,\n",
      "$$"
     ]
    },
    {
     "cell_type": "markdown",
     "metadata": {},
     "source": [
      "where we used that $H(\\boldsymbol{R})\\Psi_n(\\boldsymbol{R})=E_n\\Psi_n(\\boldsymbol{R})$.\n",
      "In general, the integrals involved in the calculation of various  expectation\n",
      "values  are multi-dimensional ones. \n",
      "The variational principle yields the lowest state of a given symmetry.\n",
      "\n",
      "\n",
      "\n",
      "\n",
      "### Quantum Monte Carlo Motivation\n",
      "In most cases, a wave function has only small values in large parts of \n",
      "configuration space, and a straightforward procedure which uses\n",
      "homogenously distributed random points in configuration space \n",
      "will most likely lead to poor results. This may suggest that some kind\n",
      "of importance sampling combined with e.g., the Metropolis algorithm \n",
      "may be  a more efficient way of obtaining the ground state energy.\n",
      "The hope is then that those regions of configurations space where\n",
      "the wave function assumes appreciable values are sampled more \n",
      "efficiently.\n",
      "\n",
      "\n",
      "\n",
      "\n",
      "### Quantum Monte Carlo Motivation\n",
      "The tedious part in a VMC calculation is the search for the variational\n",
      "minimum. A good knowledge of the system is required in order to carry out\n",
      "reasonable VMC calculations. This is not always the case, \n",
      "and often VMC calculations \n",
      "serve rather as the starting\n",
      "point for so-called diffusion Monte Carlo calculations (DMC). DMC is a way of\n",
      "solving exactly the many-body Schroedinger equation by means of \n",
      "a stochastic procedure. A good guess on the binding energy\n",
      "and its wave function is however necessary. \n",
      "A carefully performed VMC calculation can aid in this context.\n",
      "\n",
      "\n",
      "\n",
      "\n",
      "### Quantum Monte Carlo Motivation\n",
      "* Construct first a trial wave function $\\psi_T(\\boldsymbol{R},\\boldsymbol{\\alpha})$,  for a many-body system consisting of $N$ particles located at positions \n",
      "\n",
      "$\\boldsymbol{R}=(\\boldsymbol{R}_1,\\dots ,\\boldsymbol{R}_N)$. The trial wave function depends on $\\alpha$ variational parameters $\\boldsymbol{\\alpha}=(\\alpha_1,\\dots ,\\alpha_M)$.\n",
      "* Then we evaluate the expectation value of the hamiltonian $H$"
     ]
    },
    {
     "cell_type": "markdown",
     "metadata": {},
     "source": [
      "$$\n",
      "E[H]=\\langle H \\rangle =\n",
      "   \\frac{\\int d\\boldsymbol{R}\\Psi^{\\ast}_{T}(\\boldsymbol{R},\\boldsymbol{\\alpha})H(\\boldsymbol{R})\\Psi_{T}(\\boldsymbol{R},\\boldsymbol{\\alpha})}\n",
      "        {\\int d\\boldsymbol{R}\\Psi^{\\ast}_{T}(\\boldsymbol{R},\\boldsymbol{\\alpha})\\Psi_{T}(\\boldsymbol{R},\\boldsymbol{\\alpha})}.\n",
      "$$"
     ]
    },
    {
     "cell_type": "markdown",
     "metadata": {},
     "source": [
      "* Thereafter we vary $\\alpha$ according to some minimization algorithm and return to the first step.\n",
      "\n",
      "\n",
      "\n",
      "\n",
      "### Quantum Monte Carlo Motivation\n",
      "**Basic steps.**\n",
      "\n",
      "Choose a trial wave function\n",
      "$\\psi_T(\\boldsymbol{R})$."
     ]
    },
    {
     "cell_type": "markdown",
     "metadata": {},
     "source": [
      "$$\n",
      "P(\\boldsymbol{R})= \\frac{\\left|\\psi_T(\\boldsymbol{R})\\right|^2}{\\int \\left|\\psi_T(\\boldsymbol{R})\\right|^2d\\boldsymbol{R}}.\n",
      "$$"
     ]
    },
    {
     "cell_type": "markdown",
     "metadata": {},
     "source": [
      "This is our new probability distribution function  (PDF).\n",
      "The approximation to the expectation value of the Hamiltonian is now"
     ]
    },
    {
     "cell_type": "markdown",
     "metadata": {},
     "source": [
      "$$\n",
      "E[H(\\boldsymbol{\\alpha})] = \n",
      "   \\frac{\\int d\\boldsymbol{R}\\Psi^{\\ast}_T(\\boldsymbol{R},\\boldsymbol{\\alpha})H(\\boldsymbol{R})\\Psi_T(\\boldsymbol{R},\\boldsymbol{\\alpha})}\n",
      "        {\\int d\\boldsymbol{R}\\Psi^{\\ast}_T(\\boldsymbol{R},\\boldsymbol{\\alpha})\\Psi_T(\\boldsymbol{R},\\boldsymbol{\\alpha})}.\n",
      "$$"
     ]
    },
    {
     "cell_type": "markdown",
     "metadata": {},
     "source": [
      "### Quantum Monte Carlo Motivation\n",
      "Define a new quantity"
     ]
    },
    {
     "cell_type": "markdown",
     "metadata": {},
     "source": [
      "<!-- Equation labels as ordinary links -->\n",
      "<div id=\"eq:locale1\"></div>\n",
      "\n",
      "$$\n",
      "E_L(\\boldsymbol{R},\\boldsymbol{\\alpha})=\\frac{1}{\\psi_T(\\boldsymbol{R},\\boldsymbol{\\alpha})}H\\psi_T(\\boldsymbol{R},\\boldsymbol{\\alpha}),\n",
      "   \\label{eq:locale1} \\tag{1}\n",
      "$$"
     ]
    },
    {
     "cell_type": "markdown",
     "metadata": {},
     "source": [
      "called the local energy, which, together with our trial PDF yields"
     ]
    },
    {
     "cell_type": "markdown",
     "metadata": {},
     "source": [
      "<!-- Equation labels as ordinary links -->\n",
      "<div id=\"eq:vmc1\"></div>\n",
      "\n",
      "$$\n",
      "E[H(\\boldsymbol{\\alpha})]= = \\int P(\\boldsymbol{R})E_L(\\boldsymbol{R}) d\\boldsymbol{R}\\approx \\frac{1}{N}\\sum_{i=1}^NP(\\boldsymbol{R_i},\\boldsymbol{\\alpha})E_L(\\boldsymbol{R_i},\\boldsymbol{\\alpha})\n",
      "  \\label{eq:vmc1} \\tag{2}\n",
      "$$"
     ]
    },
    {
     "cell_type": "markdown",
     "metadata": {},
     "source": [
      "with $N$ being the number of Monte Carlo samples.\n",
      "\n",
      "\n",
      "\n",
      "\n",
      "\n",
      "\n",
      "\n",
      "\n",
      "### Quantum Monte Carlo\n",
      "The Algorithm for performing a variational Monte Carlo calculations runs thus as this\n",
      "\n",
      "   * Initialisation: Fix the number of Monte Carlo steps. Choose an initial $\\boldsymbol{R}$ and variational parameters $\\alpha$ and calculate $\\left|\\psi_T^{\\alpha}(\\boldsymbol{R})\\right|^2$. \n",
      "\n",
      "   * Initialise the energy and the variance and start the Monte Carlo calculation.\n",
      "\n",
      "      * Calculate  a trial position  $\\boldsymbol{R}_p=\\boldsymbol{R}+r*step$ where $r$ is a random variable $r \\in [0,1]$.\n",
      "\n",
      "      * Metropolis algorithm to accept or reject this move  $w = P(\\boldsymbol{R}_p)/P(\\boldsymbol{R})$.\n",
      "\n",
      "      * If the step is accepted, then we set $\\boldsymbol{R}=\\boldsymbol{R}_p$. \n",
      "\n",
      "      * Update averages\n",
      "\n",
      "\n",
      "   * Finish and compute final averages.\n",
      "\n",
      "Observe that the jumping in space is governed by the variable *step*. This is Called brute-force sampling.\n",
      "Need importance sampling to get more relevant sampling, see lectures below.\n",
      "\n",
      "\n",
      "\n",
      "### Quantum Monte Carlo: hydrogen atom\n",
      "The radial Schroedinger equation for the hydrogen atom can be\n",
      "written as"
     ]
    },
    {
     "cell_type": "markdown",
     "metadata": {},
     "source": [
      "$$\n",
      "-\\frac{\\hbar^2}{2m}\\frac{\\partial^2 u(r)}{\\partial r^2}-\n",
      "\\left(\\frac{ke^2}{r}-\\frac{\\hbar^2l(l+1)}{2mr^2}\\right)u(r)=Eu(r),\n",
      "$$"
     ]
    },
    {
     "cell_type": "markdown",
     "metadata": {},
     "source": [
      "or with dimensionless variables"
     ]
    },
    {
     "cell_type": "markdown",
     "metadata": {},
     "source": [
      "<!-- Equation labels as ordinary links -->\n",
      "<div id=\"eq:hydrodimless1\"></div>\n",
      "\n",
      "$$\n",
      "-\\frac{1}{2}\\frac{\\partial^2 u(\\rho)}{\\partial \\rho^2}-\n",
      "\\frac{u(\\rho)}{\\rho}+\\frac{l(l+1)}{2\\rho^2}u(\\rho)-\\lambda u(\\rho)=0,\n",
      "\\label{eq:hydrodimless1} \\tag{3}\n",
      "$$"
     ]
    },
    {
     "cell_type": "markdown",
     "metadata": {},
     "source": [
      "with the hamiltonian"
     ]
    },
    {
     "cell_type": "markdown",
     "metadata": {},
     "source": [
      "$$\n",
      "H=-\\frac{1}{2}\\frac{\\partial^2 }{\\partial \\rho^2}-\n",
      "\\frac{1}{\\rho}+\\frac{l(l+1)}{2\\rho^2}.\n",
      "$$"
     ]
    },
    {
     "cell_type": "markdown",
     "metadata": {},
     "source": [
      "Use variational parameter $\\alpha$ in the trial\n",
      "wave function"
     ]
    },
    {
     "cell_type": "markdown",
     "metadata": {},
     "source": [
      "<!-- Equation labels as ordinary links -->\n",
      "<div id=\"eq:trialhydrogen\"></div>\n",
      "\n",
      "$$\n",
      "u_T^{\\alpha}(\\rho)=\\alpha\\rho e^{-\\alpha\\rho}. \n",
      "   \\label{eq:trialhydrogen} \\tag{4}\n",
      "$$"
     ]
    },
    {
     "cell_type": "markdown",
     "metadata": {},
     "source": [
      "### Quantum Monte Carlo: hydrogen atom\n",
      "Inserting this wave function into the expression for the\n",
      "local energy $E_L$ gives"
     ]
    },
    {
     "cell_type": "markdown",
     "metadata": {},
     "source": [
      "$$\n",
      "E_L(\\rho)=-\\frac{1}{\\rho}-\n",
      "              \\frac{\\alpha}{2}\\left(\\alpha-\\frac{2}{\\rho}\\right).\n",
      "$$"
     ]
    },
    {
     "cell_type": "markdown",
     "metadata": {},
     "source": [
      "A simple variational Monte Carlo calculation results in\n",
      "<table border=\"1\">\n",
      "<thead>\n",
      "<tr><th align=\"center\">  $\\alpha$ </th> <th align=\"center\">$\\langle H \\rangle $</th> <th align=\"center\"> $\\sigma^2$</th> <th align=\"center\">$\\sigma/\\sqrt{N}$</th> </tr>\n",
      "</thead>\n",
      "<tbody>\n",
      "<tr><td align=\"center\">   7.00000E-01    </td> <td align=\"center\">   -4.57759E-01            </td> <td align=\"center\">   4.51201E-02    </td> <td align=\"center\">   6.71715E-04          </td> </tr>\n",
      "<tr><td align=\"center\">   8.00000E-01    </td> <td align=\"center\">   -4.81461E-01            </td> <td align=\"center\">   3.05736E-02    </td> <td align=\"center\">   5.52934E-04          </td> </tr>\n",
      "<tr><td align=\"center\">   9.00000E-01    </td> <td align=\"center\">   -4.95899E-01            </td> <td align=\"center\">   8.20497E-03    </td> <td align=\"center\">   2.86443E-04          </td> </tr>\n",
      "<tr><td align=\"center\">   1.00000E-00    </td> <td align=\"center\">   -5.00000E-01            </td> <td align=\"center\">   0.00000E+00    </td> <td align=\"center\">   0.00000E+00          </td> </tr>\n",
      "<tr><td align=\"center\">   1.10000E+00    </td> <td align=\"center\">   -4.93738E-01            </td> <td align=\"center\">   1.16989E-02    </td> <td align=\"center\">   3.42036E-04          </td> </tr>\n",
      "<tr><td align=\"center\">   1.20000E+00    </td> <td align=\"center\">   -4.75563E-01            </td> <td align=\"center\">   8.85899E-02    </td> <td align=\"center\">   9.41222E-04          </td> </tr>\n",
      "<tr><td align=\"center\">   1.30000E+00    </td> <td align=\"center\">   -4.54341E-01            </td> <td align=\"center\">   1.45171E-01    </td> <td align=\"center\">   1.20487E-03          </td> </tr>\n",
      "</tbody>\n",
      "</table>\n",
      "\n",
      "\n",
      "\n",
      "\n",
      "### Quantum Monte Carlo: hydrogen atom\n",
      "\n",
      "We note that at $\\alpha=1$ we obtain the exact\n",
      "result, and the variance is zero, as it should. The reason is that \n",
      "we then have the exact wave function, and the action of the hamiltionan\n",
      "on the wave function"
     ]
    },
    {
     "cell_type": "markdown",
     "metadata": {},
     "source": [
      "$$\n",
      "H\\psi = \\mathrm{constant}\\times \\psi,\n",
      "$$"
     ]
    },
    {
     "cell_type": "markdown",
     "metadata": {},
     "source": [
      "yields just a constant. The integral which defines various \n",
      "expectation values involving moments of the hamiltonian becomes then"
     ]
    },
    {
     "cell_type": "markdown",
     "metadata": {},
     "source": [
      "$$\n",
      "\\langle H^n \\rangle =\n",
      "   \\frac{\\int d\\boldsymbol{R}\\Psi^{\\ast}_T(\\boldsymbol{R})H^n(\\boldsymbol{R})\\Psi_T(\\boldsymbol{R})}\n",
      "        {\\int d\\boldsymbol{R}\\Psi^{\\ast}_T(\\boldsymbol{R})\\Psi_T(\\boldsymbol{R})}=\n",
      "\\mathrm{constant}\\times\\frac{\\int d\\boldsymbol{R}\\Psi^{\\ast}_T(\\boldsymbol{R})\\Psi_T(\\boldsymbol{R})}\n",
      "        {\\int d\\boldsymbol{R}\\Psi^{\\ast}_T(\\boldsymbol{R})\\Psi_T(\\boldsymbol{R})}=\\mathrm{constant}.\n",
      "$$"
     ]
    },
    {
     "cell_type": "markdown",
     "metadata": {},
     "source": [
      "**This gives an important information: the exact wave function leads to zero variance!**\n",
      "Variation is then performed by minimizing both the energy and the variance.\n",
      "\n",
      "\n",
      "\n",
      "\n",
      "\n",
      "### Quantum Monte Carlo: the helium atom\n",
      "The helium atom consists of two electrons and a nucleus with\n",
      "charge $Z=2$. \n",
      "The contribution  \n",
      "to the potential energy due to the attraction from the nucleus is"
     ]
    },
    {
     "cell_type": "markdown",
     "metadata": {},
     "source": [
      "$$\n",
      "-\\frac{2ke^2}{r_1}-\\frac{2ke^2}{r_2},\n",
      "$$"
     ]
    },
    {
     "cell_type": "markdown",
     "metadata": {},
     "source": [
      "and if we add the repulsion arising from the two \n",
      "interacting electrons, we obtain the potential energy"
     ]
    },
    {
     "cell_type": "markdown",
     "metadata": {},
     "source": [
      "$$\n",
      "V(r_1, r_2)=-\\frac{2ke^2}{r_1}-\\frac{2ke^2}{r_2}+\n",
      "               \\frac{ke^2}{r_{12}},\n",
      "$$"
     ]
    },
    {
     "cell_type": "markdown",
     "metadata": {},
     "source": [
      "with the electrons separated at a distance \n",
      "$r_{12}=|\\boldsymbol{r}_1-\\boldsymbol{r}_2|$.\n",
      "\n",
      "\n",
      "\n",
      "\n",
      "### Quantum Monte Carlo: the helium atom\n",
      "\n",
      "The hamiltonian becomes then"
     ]
    },
    {
     "cell_type": "markdown",
     "metadata": {},
     "source": [
      "$$\n",
      "\\hat{H}=-\\frac{\\hbar^2\\nabla_1^2}{2m}-\\frac{\\hbar^2\\nabla_2^2}{2m}\n",
      "          -\\frac{2ke^2}{r_1}-\\frac{2ke^2}{r_2}+\n",
      "               \\frac{ke^2}{r_{12}},\n",
      "$$"
     ]
    },
    {
     "cell_type": "markdown",
     "metadata": {},
     "source": [
      "and  Schroedingers equation reads"
     ]
    },
    {
     "cell_type": "markdown",
     "metadata": {},
     "source": [
      "$$\n",
      "\\hat{H}\\psi=E\\psi.\n",
      "$$"
     ]
    },
    {
     "cell_type": "markdown",
     "metadata": {},
     "source": [
      "All observables are evaluated with respect to the probability distribution"
     ]
    },
    {
     "cell_type": "markdown",
     "metadata": {},
     "source": [
      "$$\n",
      "P(\\boldsymbol{R})= \\frac{\\left|\\psi_T(\\boldsymbol{R})\\right|^2}{\\int \\left|\\psi_T(\\boldsymbol{R})\\right|^2d\\boldsymbol{R}}.\n",
      "$$"
     ]
    },
    {
     "cell_type": "markdown",
     "metadata": {},
     "source": [
      "generated by the trial wave function.   \n",
      "The trial wave function must approximate an exact \n",
      "eigenstate in order that accurate results are to be obtained.\n",
      "\n",
      "\n",
      "\n",
      "### Quantum Monte Carlo: the helium atom\n",
      "Choice of trial wave function for Helium:\n",
      "Assume $r_1 \\rightarrow 0$."
     ]
    },
    {
     "cell_type": "markdown",
     "metadata": {},
     "source": [
      "2\n",
      "1\n",
      " \n",
      "<\n",
      "<\n",
      "<\n",
      "!\n",
      "!\n",
      "M\n",
      "A\n",
      "T\n",
      "H\n",
      "_\n",
      "B\n",
      "L\n",
      "O\n",
      "C\n",
      "K"
     ]
    },
    {
     "cell_type": "markdown",
     "metadata": {},
     "source": [
      "$$\n",
      "E_L(R)=\n",
      "    \\frac{1}{{\\cal R}_T(r_1)}\\left(-\\frac{1}{2}\\frac{d^2}{dr_1^2}-\n",
      "     \\frac{1}{r_1}\\frac{d}{dr_1}\n",
      "     -\\frac{Z}{r_1}\\right){\\cal R}_T(r_1) + \\mathrm{finite\\hspace{0.1cm} terms}\n",
      "$$"
     ]
    },
    {
     "cell_type": "markdown",
     "metadata": {},
     "source": [
      "For small values of $r_1$, the terms which dominate are"
     ]
    },
    {
     "cell_type": "markdown",
     "metadata": {},
     "source": [
      "$$\n",
      "\\lim_{r_1 \\rightarrow 0}E_L(R)=\n",
      "    \\frac{1}{{\\cal R}_T(r_1)}\\left(-\n",
      "     \\frac{1}{r_1}\\frac{d}{dr_1}\n",
      "     -\\frac{Z}{r_1}\\right){\\cal R}_T(r_1),\n",
      "$$"
     ]
    },
    {
     "cell_type": "markdown",
     "metadata": {},
     "source": [
      "since the second derivative does not diverge due to the finiteness of  $\\Psi$ at the origin.\n",
      "\n",
      "\n",
      "\n",
      "\n",
      "\n",
      "\n",
      "### Quantum Monte Carlo: the helium atom\n",
      "This results in"
     ]
    },
    {
     "cell_type": "markdown",
     "metadata": {},
     "source": [
      "$$\n",
      "\\frac{1}{{\\cal R}_T(r_1)}\\frac{d {\\cal R}_T(r_1)}{dr_1}=-Z,\n",
      "$$"
     ]
    },
    {
     "cell_type": "markdown",
     "metadata": {},
     "source": [
      "and"
     ]
    },
    {
     "cell_type": "markdown",
     "metadata": {},
     "source": [
      "$$\n",
      "{\\cal R}_T(r_1)\\propto e^{-Zr_1}.\n",
      "$$"
     ]
    },
    {
     "cell_type": "markdown",
     "metadata": {},
     "source": [
      "A similar condition applies to electron 2 as well. \n",
      "For orbital momenta $l > 0$ we have"
     ]
    },
    {
     "cell_type": "markdown",
     "metadata": {},
     "source": [
      "$$\n",
      "\\frac{1}{{\\cal R}_T(r)}\\frac{d {\\cal R}_T(r)}{dr}=-\\frac{Z}{l+1}.\n",
      "$$"
     ]
    },
    {
     "cell_type": "markdown",
     "metadata": {},
     "source": [
      "Similarly, studying the case $r_{12}\\rightarrow 0$ we can write \n",
      "a possible trial wave function as"
     ]
    },
    {
     "cell_type": "markdown",
     "metadata": {},
     "source": [
      "<!-- Equation labels as ordinary links -->\n",
      "<div id=\"eq:wavehelium2\"></div>\n",
      "\n",
      "$$\n",
      "\\psi_T(\\boldsymbol{R})=e^{-\\alpha(r_1+r_2)}e^{\\beta r_{12}}.\n",
      "    \\label{eq:wavehelium2} \\tag{5}\n",
      "$$"
     ]
    },
    {
     "cell_type": "markdown",
     "metadata": {},
     "source": [
      "The last equation can be generalized to"
     ]
    },
    {
     "cell_type": "markdown",
     "metadata": {},
     "source": [
      "$$\n",
      "\\psi_T(\\boldsymbol{R})=\\phi(\\boldsymbol{r}_1)\\phi(\\boldsymbol{r}_2)\\dots\\phi(\\boldsymbol{r}_N)\n",
      "                   \\prod_{i < j}f(r_{ij}),\n",
      "$$"
     ]
    },
    {
     "cell_type": "markdown",
     "metadata": {},
     "source": [
      "for a system with $N$ electrons or particles.\n",
      "\n",
      "\n",
      "\n",
      "\n",
      "\n",
      "\n",
      "### The first attempt at solving the helium atom\n",
      "\n",
      "During the development of our code we need to make several checks. It is also very instructive to compute a closed form expression for the local energy. Since our wave function is rather simple  it is straightforward\n",
      "to find an analytic expressions.  Consider first the case of the simple helium function"
     ]
    },
    {
     "cell_type": "markdown",
     "metadata": {},
     "source": [
      "$$\n",
      "\\Psi_T(\\boldsymbol{r}_1,\\boldsymbol{r}_2) = e^{-\\alpha(r_1+r_2)}\n",
      "$$"
     ]
    },
    {
     "cell_type": "markdown",
     "metadata": {},
     "source": [
      "The local energy is for this case"
     ]
    },
    {
     "cell_type": "markdown",
     "metadata": {},
     "source": [
      "$$\n",
      "E_{L1} = \\left(\\alpha-Z\\right)\\left(\\frac{1}{r_1}+\\frac{1}{r_2}\\right)+\\frac{1}{r_{12}}-\\alpha^2\n",
      "$$"
     ]
    },
    {
     "cell_type": "markdown",
     "metadata": {},
     "source": [
      "which gives an expectation value for the local energy given by"
     ]
    },
    {
     "cell_type": "markdown",
     "metadata": {},
     "source": [
      "$$\n",
      "\\langle E_{L1} \\rangle = \\alpha^2-2\\alpha\\left(Z-\\frac{5}{16}\\right)\n",
      "$$"
     ]
    },
    {
     "cell_type": "markdown",
     "metadata": {},
     "source": [
      "### The first attempt at solving the Helium atom\n",
      "\n",
      "With closed form formulae we  can speed up the computation of the correlation. In our case\n",
      "we write it as"
     ]
    },
    {
     "cell_type": "markdown",
     "metadata": {},
     "source": [
      "$$\n",
      "\\Psi_C= \\exp{\\left\\{\\sum_{i < j}\\frac{ar_{ij}}{1+\\beta r_{ij}}\\right\\}},\n",
      "$$"
     ]
    },
    {
     "cell_type": "markdown",
     "metadata": {},
     "source": [
      "which means that the gradient needed for the so-called quantum force and local energy \n",
      "can be calculated analytically.\n",
      "This will speed up your code since the computation of the correlation part and the Slater determinant are the most \n",
      "time consuming parts in your code.  \n",
      "\n",
      "We will refer to this correlation function as $\\Psi_C$ or the *linear Pade-Jastrow*.\n",
      "\n",
      "\n",
      "\n",
      "### The first attempt at solving the Helium atom\n",
      "\n",
      "We can test this by computing the local energy for our helium wave function"
     ]
    },
    {
     "cell_type": "markdown",
     "metadata": {},
     "source": [
      "$$\n",
      "\\psi_{T}(\\boldsymbol{r}_1,\\boldsymbol{r}_2) = \n",
      "   \\exp{\\left(-\\alpha(r_1+r_2)\\right)}\n",
      "   \\exp{\\left(\\frac{r_{12}}{2(1+\\beta r_{12})}\\right)},\n",
      "$$"
     ]
    },
    {
     "cell_type": "markdown",
     "metadata": {},
     "source": [
      "with $\\alpha$ and $\\beta$ as variational parameters.\n",
      "\n",
      "The local energy is for this case"
     ]
    },
    {
     "cell_type": "markdown",
     "metadata": {},
     "source": [
      "$$\n",
      "E_{L2} = E_{L1}+\\frac{1}{2(1+\\beta r_{12})^2}\\left\\{\\frac{\\alpha(r_1+r_2)}{r_{12}}(1-\\frac{\\boldsymbol{r}_1\\boldsymbol{r}_2}{r_1r_2})-\\frac{1}{2(1+\\beta r_{12})^2}-\\frac{2}{r_{12}}+\\frac{2\\beta}{1+\\beta r_{12}}\\right\\}\n",
      "$$"
     ]
    },
    {
     "cell_type": "markdown",
     "metadata": {},
     "source": [
      "It is very useful to test your code against these expressions. It means also that you don't need to\n",
      "compute a derivative numerically as discussed in the code example below.\n",
      "\n",
      "\n",
      "\n",
      "### The first attempt at solving the Helium atom\n",
      "For the computation of various derivatives with different types of wave functions, you will find it useful to use python with symbolic python, that is sympy, see URL: 'http://docs.sympy.org/latest/index.html'.  Using sympy allows you autogenerate both Latex code as well c++, python or Fortran codes. Here you will find some simple examples. We choose \n",
      "the $2s$ hydrogen-orbital  (not normalized) as an example"
     ]
    },
    {
     "cell_type": "markdown",
     "metadata": {},
     "source": [
      "$$\n",
      "\\phi_{2s}(\\boldsymbol{r}) = (Zr - 2)\\exp{-(\\frac{1}{2}Zr)},\n",
      "$$"
     ]
    },
    {
     "cell_type": "markdown",
     "metadata": {},
     "source": [
      "with $ r^2 = x^2 + y^2 + z^2$."
     ]
    },
    {
     "cell_type": "code",
     "collapsed": false,
     "input": [
      "from sympy import symbols, diff, exp, sqrt\n",
      "x, y, z, Z = symbols('x y z Z')\n",
      "r = sqrt(x*x + y*y + z*z)\n",
      "r\n",
      "phi = (Z*r - 2)*exp(-Z*r/2)\n",
      "phi\n",
      "diff(phi, x)\n"
     ],
     "language": "python",
     "metadata": {},
     "outputs": [],
     "prompt_number": 1
    },
    {
     "cell_type": "markdown",
     "metadata": {},
     "source": [
      "This doesn't look very nice, but sympy provides several functions that allow for improving and simplifying the output.\n",
      "\n",
      "\n",
      "\n",
      "### The first attempt at solving the Helium atom\n",
      "We can improve our output by factorizing and substituting expressions"
     ]
    },
    {
     "cell_type": "code",
     "collapsed": false,
     "input": [
      "from sympy import symbols, diff, exp, sqrt, factor, Symbol, printing\n",
      "x, y, z, Z = symbols('x y z Z')\n",
      "r = sqrt(x*x + y*y + z*z)\n",
      "phi = (Z*r - 2)*exp(-Z*r/2)\n",
      "R = Symbol('r') #Creates a symbolic equivalent of r\n",
      "#print latex and c++ code\n",
      "print printing.latex(diff(phi, x).factor().subs(r, R))\n",
      "print printing.ccode(diff(phi, x).factor().subs(r, R))\n"
     ],
     "language": "python",
     "metadata": {},
     "outputs": [],
     "prompt_number": 1
    },
    {
     "cell_type": "markdown",
     "metadata": {},
     "source": [
      "### The first attempt at solving the Helium atom\n",
      "We can in turn look at second derivatives"
     ]
    },
    {
     "cell_type": "code",
     "collapsed": false,
     "input": [
      "from sympy import symbols, diff, exp, sqrt, factor, Symbol, printing\n",
      "x, y, z, Z = symbols('x y z Z')\n",
      "r = sqrt(x*x + y*y + z*z)\n",
      "phi = (Z*r - 2)*exp(-Z*r/2)\n",
      "R = Symbol('r') #Creates a symbolic equivalent of r\n",
      "(diff(diff(phi, x), x) + diff(diff(phi, y), y) + diff(diff(phi, z), z)).factor().subs(r, R)\n",
      "# Collect the Z values\n",
      "(diff(diff(phi, x), x) + diff(diff(phi, y), y) +diff(diff(phi, z), z)).factor().collect(Z).subs(r, R)\n",
      "# Factorize also the r**2 terms\n",
      "(diff(diff(phi, x), x) + diff(diff(phi, y), y) + diff(diff(phi, z), z)).factor().collect(Z).subs(r, R).subs(r**2, R**2).factor()\n",
      "print printing.ccode((diff(diff(phi, x), x) + diff(diff(phi, y), y) + diff(diff(phi, z), z)).factor().collect(Z).subs(r, R).subs(r**2, R**2).factor())\n"
     ],
     "language": "python",
     "metadata": {},
     "outputs": [],
     "prompt_number": 1
    },
    {
     "cell_type": "markdown",
     "metadata": {},
     "source": [
      "With some practice this allows one to be able to check one's own calculation and translate automatically into code lines.\n",
      "\n",
      "\n",
      "\n",
      "\n",
      "\n",
      "\n",
      "\n",
      "\n",
      "### The first attempt at solving the Helium atom\n",
      "**Exercises for first lab session.**\n",
      "\n",
      "\n",
      " * Implement the closed form expression for the local energy and the so-called quantum force\n",
      "\n",
      " * Convince yourself that the closed form expressions are correct.\n",
      "\n",
      " * Implement the closed form expressions for systems with more than two electrons.\n",
      "\n",
      " * Make another copy of your code.\n",
      "\n",
      " * Implement the closed form expression for the local energy and compare with a code where the second derivatives are computed numerically."
     ]
    }
   ],
   "metadata": {}
  }
 ]
}
