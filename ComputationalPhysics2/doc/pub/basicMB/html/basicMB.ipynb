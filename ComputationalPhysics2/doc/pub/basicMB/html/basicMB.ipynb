{
 "metadata": {},
 "nbformat": 3,
 "nbformat_minor": 0,
 "worksheets": [
  {
   "cells": [
    {
     "cell_type": "markdown",
     "metadata": {},
     "source": [
      "<!-- Slides for FYS-KJM4480 -->\n",
      "# Slides from FYS4411/9411 Definitions of the many-body problem\n",
      "**Spring 2015**\n",
      "\n",
      "### Quantum Many-particle Methods\n",
      "* Large-scale diagonalization (Iterative methods, Lanczo's method, dimensionalities $10^{10}$ states)\n",
      "\n",
      "* Coupled cluster theory, favoured method in quantum chemistry, molecular and atomic physics. Applications to ab initio calculations in nuclear physics as well for large nuclei.\n",
      "\n",
      "* Perturbative many-body methods \n",
      "\n",
      "* Density functional theories/Mean-field theory and Hartree-Fock theory (covered partly also in FYS-MENA4111)\n",
      "\n",
      "* Monte-Carlo methods (Only in FYS4411, Computational quantum mechanics)\n",
      "\n",
      "* Green's function theories (depending on interest)\n",
      "\n",
      "* and other. The physics of the system hints at which many-body methods to use.\n",
      "\n",
      "\n",
      "\n",
      "### Selected Texts and Many-body theory\n",
      "* Blaizot and Ripka, *Quantum Theory of Finite systems*, MIT press 1986\n",
      "\n",
      "* Negele and Orland, *Quantum Many-Particle Systems*, Addison-Wesley, 1987.\n",
      "\n",
      "* Fetter and Walecka, *Quantum Theory of Many-Particle Systems*, McGraw-Hill, 1971.\n",
      "\n",
      "* Helgaker, Jorgensen and Olsen, *Molecular Electronic Structure Theory*, Wiley, 2001.\n",
      "\n",
      "* Mattuck, *Guide to Feynman Diagrams in the Many-Body Problem*, Dover, 1971.\n",
      "\n",
      "* Dickhoff and Van Neck, *Many-Body Theory Exposed*, World Scientific, 2006.\n",
      "\n",
      "\n",
      "\n",
      "\n",
      "<!-- !split  -->\n",
      "### Definitions\n",
      "An operator is defined as $\\hat{O}$ throughout. Unless otherwise specified the number of particles is\n",
      "always $N$ and $d$ is the dimension of the system.  In nuclear physics\n",
      "we normally define the total number of particles to be $A=N+Z$, where\n",
      "$N$ is total number of neutrons and $Z$ the total number of\n",
      "protons. In case of other baryons such isobars $\\Delta$ or various\n",
      "hyperons such as $\\Lambda$ or $\\Sigma$, one needs to add their\n",
      "definitions.  Hereafter, $N$ is reserved for the total number of\n",
      "particles, unless otherwise specificied.\n",
      "\n",
      "\n",
      "\n",
      "### Definitions\n",
      "The quantum numbers of a single-particle state in coordinate space are\n",
      "defined by the variable"
     ]
    },
    {
     "cell_type": "markdown",
     "metadata": {},
     "source": [
      "$$\n",
      "x=({\\bf r},\\sigma),\n",
      "$$"
     ]
    },
    {
     "cell_type": "markdown",
     "metadata": {},
     "source": [
      "where"
     ]
    },
    {
     "cell_type": "markdown",
     "metadata": {},
     "source": [
      "$$\n",
      "{\\bf r}\\in {\\mathbb{R}}^{d},\n",
      "$$"
     ]
    },
    {
     "cell_type": "markdown",
     "metadata": {},
     "source": [
      "with $d=1,2,3$ represents the spatial coordinates and $\\sigma$ is the eigenspin of the particle. For fermions with eigenspin $1/2$ this means that"
     ]
    },
    {
     "cell_type": "markdown",
     "metadata": {},
     "source": [
      "$$\n",
      "x\\in {\\mathbb{R}}^{d}\\oplus (\\frac{1}{2}),\n",
      "$$"
     ]
    },
    {
     "cell_type": "markdown",
     "metadata": {},
     "source": [
      "and the integral $\\int dx = \\sum_{\\sigma}\\int d^dr = \\sum_{\\sigma}\\int d{\\bf r}$,\n",
      "and"
     ]
    },
    {
     "cell_type": "markdown",
     "metadata": {},
     "source": [
      "$$\n",
      "\\int d^Nx= \\int dx_1\\int dx_2\\dots\\int dx_N.\n",
      "$$"
     ]
    },
    {
     "cell_type": "markdown",
     "metadata": {},
     "source": [
      "### Definitions\n",
      "The quantum mechanical wave function of a given state with quantum numbers $\\lambda$ (encompassing all quantum numbers needed to specify the system), ignoring time, is"
     ]
    },
    {
     "cell_type": "markdown",
     "metadata": {},
     "source": [
      "$$\n",
      "\\Psi_{\\lambda}=\\Psi_{\\lambda}(x_1,x_2,\\dots,x_N),\n",
      "$$"
     ]
    },
    {
     "cell_type": "markdown",
     "metadata": {},
     "source": [
      "with $x_i=({\\bf r}_i,\\sigma_i)$ and the projection of $\\sigma_i$ takes the values\n",
      "$\\{-1/2,+1/2\\}$ for particles with spin $1/2$. \n",
      "We will hereafter always refer to $\\Psi_{\\lambda}$ as the exact wave function, and if the ground state is not degenerate we label it as"
     ]
    },
    {
     "cell_type": "markdown",
     "metadata": {},
     "source": [
      "$$\n",
      "\\Psi_0=\\Psi_0(x_1,x_2,\\dots,x_N).\n",
      "$$"
     ]
    },
    {
     "cell_type": "markdown",
     "metadata": {},
     "source": [
      "### Definitions\n",
      "Since the solution $\\Psi_{\\lambda}$ seldomly can be found in closed form, approximations are sought. Here we define an approximative wave function or an ansatz to the exact wave function as"
     ]
    },
    {
     "cell_type": "markdown",
     "metadata": {},
     "source": [
      "$$\n",
      "\\Phi_{\\lambda}=\\Phi_{\\lambda}(x_1,x_2,\\dots,x_N),\n",
      "$$"
     ]
    },
    {
     "cell_type": "markdown",
     "metadata": {},
     "source": [
      "with"
     ]
    },
    {
     "cell_type": "markdown",
     "metadata": {},
     "source": [
      "$$\n",
      "\\Phi_0=\\Phi_0(x_1,x_2,\\dots,x_N),\n",
      "$$"
     ]
    },
    {
     "cell_type": "markdown",
     "metadata": {},
     "source": [
      "being the ansatz to the ground state.\n",
      "\n",
      "\n",
      "\n",
      "\n",
      "### Definitions\n",
      "The wave function $\\Psi_{\\lambda}$ is sought in the Hilbert space of either symmetric or anti-symmetric $N$-body functions, namely"
     ]
    },
    {
     "cell_type": "markdown",
     "metadata": {},
     "source": [
      "$$\n",
      "\\Psi_{\\lambda}\\in {\\cal H}_N:= {\\cal H}_1\\oplus{\\cal H}_1\\oplus\\dots\\oplus{\\cal H}_1,\n",
      "$$"
     ]
    },
    {
     "cell_type": "markdown",
     "metadata": {},
     "source": [
      "where the single-particle Hilbert space $\\hat{H}_1$ is the space of square integrable functions over\n",
      "$\\in {\\mathbb{R}}^{d}\\oplus (\\sigma)$\n",
      "resulting in"
     ]
    },
    {
     "cell_type": "markdown",
     "metadata": {},
     "source": [
      "$$\n",
      "{\\cal H}_1:= L^2(\\mathbb{R}^{d}\\oplus (\\sigma)).\n",
      "$$"
     ]
    },
    {
     "cell_type": "markdown",
     "metadata": {},
     "source": [
      "### Definitions\n",
      "Our Hamiltonian is invariant under the permutation (interchange) of two particles.\n",
      "Since we deal with fermions however, the total wave function is antisymmetric.\n",
      "Let $\\hat{P}$ be an operator which interchanges two particles.\n",
      "Due to the symmetries we have ascribed to our Hamiltonian, this operator commutes with the total Hamiltonian,"
     ]
    },
    {
     "cell_type": "markdown",
     "metadata": {},
     "source": [
      "$$\n",
      "[\\hat{H},\\hat{P}] = 0,\n",
      "$$"
     ]
    },
    {
     "cell_type": "markdown",
     "metadata": {},
     "source": [
      "meaning that $\\Psi_{\\lambda}(x_1, x_2, \\dots , x_N)$ is an eigenfunction of \n",
      "$\\hat{P}$ as well, that is"
     ]
    },
    {
     "cell_type": "markdown",
     "metadata": {},
     "source": [
      "$$\n",
      "\\hat{P}_{ij}\\Psi_{\\lambda}(x_1, x_2, \\dots,x_i,\\dots,x_j,\\dots,x_N)=\n",
      "\\beta\\Psi_{\\lambda}(x_1, x_2, \\dots,x_j,\\dots,x_i,\\dots,x_N),\n",
      "$$"
     ]
    },
    {
     "cell_type": "markdown",
     "metadata": {},
     "source": [
      "where $\\beta$ is the eigenvalue of $\\hat{P}$. We have introduced the suffix $ij$ in order to indicate that we permute particles $i$ and $j$.\n",
      "The Pauli principle tells us that the total wave function for a system of fermions\n",
      "has to be antisymmetric, resulting in the eigenvalue $\\beta = -1$.\n",
      "\n",
      "\n",
      "\n",
      "\n",
      "### Definitions and notations\n",
      "The Schrodinger equation reads"
     ]
    },
    {
     "cell_type": "markdown",
     "metadata": {},
     "source": [
      "<!-- Equation labels as ordinary links -->\n",
      "<div id=\"eq:basicSE1\"></div>\n",
      "\n",
      "$$\n",
      "\\begin{equation}\n",
      "\\hat{H}(x_1, x_2, \\dots , x_N) \\Psi_{\\lambda}(x_1, x_2, \\dots , x_N) = \n",
      "E_\\lambda  \\Psi_\\lambda(x_1, x_2, \\dots , x_N), \\label{eq:basicSE1} \\tag{1}\n",
      "\\end{equation}\n",
      "$$"
     ]
    },
    {
     "cell_type": "markdown",
     "metadata": {},
     "source": [
      "where the vector $x_i$ represents the coordinates (spatial and spin) of particle $i$, $\\lambda$ stands  for all the quantum\n",
      "numbers needed to classify a given $N$-particle state and $\\Psi_{\\lambda}$ is the pertaining eigenfunction.  Throughout this course,\n",
      "$\\Psi$ refers to the exact eigenfunction, unless otherwise stated.\n",
      "\n",
      "\n",
      "\n",
      "### Definitions and notations\n",
      "We write the Hamilton operator, or Hamiltonian,  in a generic way"
     ]
    },
    {
     "cell_type": "markdown",
     "metadata": {},
     "source": [
      "$$\n",
      "\\hat{H} = \\hat{T} + \\hat{V}\n",
      "$$"
     ]
    },
    {
     "cell_type": "markdown",
     "metadata": {},
     "source": [
      "where $\\hat{T}$  represents the kinetic energy of the system"
     ]
    },
    {
     "cell_type": "markdown",
     "metadata": {},
     "source": [
      "$$\n",
      "\\hat{T} = \\sum_{i=1}^N \\frac{\\mathbf{p}_i^2}{2m_i} = \\sum_{i=1}^N \\left( -\\frac{\\hbar^2}{2m_i} \\mathbf{\\nabla_i}^2 \\right) =\n",
      "\t\t\\sum_{i=1}^N t(x_i)\n",
      "$$"
     ]
    },
    {
     "cell_type": "markdown",
     "metadata": {},
     "source": [
      "while the operator $\\hat{V}$ for the potential energy is given by"
     ]
    },
    {
     "cell_type": "markdown",
     "metadata": {},
     "source": [
      "<!-- Equation labels as ordinary links -->\n",
      "<div id=\"eq:firstv\"></div>\n",
      "\n",
      "$$\n",
      "\\begin{equation}\n",
      "\t\\hat{V} = \\sum_{i=1}^N \\hat{u}_{\\mathrm{ext}}(x_i) + \\sum_{ji=1}^N v(x_i,x_j)+\\sum_{ijk=1}^Nv(x_i,x_j,x_k)+\\dots\n",
      "\\label{eq:firstv} \\tag{2}\n",
      "\\end{equation}\n",
      "$$"
     ]
    },
    {
     "cell_type": "markdown",
     "metadata": {},
     "source": [
      "Hereafter we use natural units, viz. $\\hbar=c=e=1$, with $e$ the elementary charge and $c$ the speed of light. This means that momenta and masses\n",
      "have dimension energy.\n",
      "\n",
      "\n",
      "\n",
      "\n",
      "### Definitions and notations\n",
      "If one does quantum chemistry, after having introduced the  Born-Oppenheimer approximation which effectively freezes out the nucleonic degrees of freedom, the Hamiltonian for $N=n_e$ electrons takes the following form"
     ]
    },
    {
     "cell_type": "markdown",
     "metadata": {},
     "source": [
      "$$\n",
      "\\hat{H} = \\sum_{i=1}^{n_e} t(x_i) - \\sum_{i=1}^{n_e} k\\frac{Z}{r_i} + \\sum_{i < j}^{n_e} \\frac{k}{r_{ij}},\n",
      "$$"
     ]
    },
    {
     "cell_type": "markdown",
     "metadata": {},
     "source": [
      "with $k=1.44$ eVnm\n",
      "\n",
      "\n",
      "\n",
      "\n",
      "### Definitions and notations\n",
      "We can rewrite this as"
     ]
    },
    {
     "cell_type": "markdown",
     "metadata": {},
     "source": [
      "<!-- Equation labels as ordinary links -->\n",
      "<div id=\"H1H2\"></div>\n",
      "\n",
      "$$\n",
      "\\begin{equation}\n",
      "    \\hat{H} = \\hat{H}_0 + \\hat{H}_I \n",
      "    = \\sum_{i=1}^{n_e}\\hat{h}_0(x_i) + \\sum_{i < j}^{n_e}\\frac{1}{r_{ij}},\n",
      "\\label{H1H2} \\tag{3}\n",
      "\\end{equation}\n",
      "$$"
     ]
    },
    {
     "cell_type": "markdown",
     "metadata": {},
     "source": [
      "where  we have defined"
     ]
    },
    {
     "cell_type": "markdown",
     "metadata": {},
     "source": [
      "$$\n",
      "r_{ij}=| {\\bf r}_i-{\\bf r}_j|,\n",
      "$$"
     ]
    },
    {
     "cell_type": "markdown",
     "metadata": {},
     "source": [
      "and"
     ]
    },
    {
     "cell_type": "markdown",
     "metadata": {},
     "source": [
      "<!-- Equation labels as ordinary links -->\n",
      "<div id=\"hi\"></div>\n",
      "\n",
      "$$\n",
      "\\begin{equation}\n",
      "  \\hat{h}_0(x_i) =  \\hat{t}(x_i) - \\frac{Z}{x_i}.\n",
      "\\label{hi} \\tag{4}\n",
      "\\end{equation}\n",
      "$$"
     ]
    },
    {
     "cell_type": "markdown",
     "metadata": {},
     "source": [
      "The first term of Eq. [(3)](#H1H2), $H_0$, is the sum of the $N$\n",
      "*one-body* Hamiltonians $\\hat{h}_0$. Each individual\n",
      "Hamiltonian $\\hat{h}_0$ contains the kinetic energy operator of an\n",
      "electron and its potential energy due to the attraction of the\n",
      "nucleus. The second term, $H_I$, is the sum of the $n_e(n_e-1)/2$\n",
      "two-body interactions between each pair of electrons. Note that the double sum carries a restriction $i < j$.\n",
      "\n",
      "\n",
      "\n",
      "\n",
      "### Definitions and notations\n",
      "The potential energy term due to the attraction of the nucleus defines the onebody field $u_i=u_{\\mathrm{ext}}(x_i)$ of Eq. [(2)](#eq:firstv).\n",
      "We have moved this term into the $\\hat{H}_0$ part of the Hamiltonian, instead of keeping  it in $\\hat{V}$ as in  Eq. [(2)](#eq:firstv).\n",
      "The reason is that we will hereafter treat $\\hat{H}_0$ as our non-interacting  Hamiltonian. For a many-body wavefunction $\\Phi_{\\lambda}$ defined by an  \n",
      "appropriate single-particle basis, we may solve exactly the non-interacting eigenvalue problem"
     ]
    },
    {
     "cell_type": "markdown",
     "metadata": {},
     "source": [
      "$$\n",
      "\\hat{H}_0\\Phi_{\\lambda}= w_{\\lambda}\\Phi_{\\lambda},\n",
      "$$"
     ]
    },
    {
     "cell_type": "markdown",
     "metadata": {},
     "source": [
      "with $w_{\\lambda}$ being the non-interacting energy. This energy is defined by the sum over single-particle energies to be defined below.\n",
      "For atoms the single-particle energies could be the hydrogen-like single-particle energies corrected for the charge $Z$. For nuclei and quantum\n",
      "dots, these energies could be given by the harmonic oscillator in three and two dimensions, respectively.\n",
      "\n",
      "\n",
      "\n",
      "### Definitions and notations\n",
      "We will assume that the interacting part of the Hamiltonian\n",
      "can be approximated by a two-body interaction.\n",
      "This means that our Hamiltonian is written as"
     ]
    },
    {
     "cell_type": "markdown",
     "metadata": {},
     "source": [
      "<!-- Equation labels as ordinary links -->\n",
      "<div id=\"Hnuclei\"></div>\n",
      "\n",
      "$$\n",
      "\\begin{equation}\n",
      "    \\hat{H} = \\hat{H}_0 + \\hat{H}_I \n",
      "    = \\sum_{i=1}^N \\hat{h}_0(x_i) + \\sum_{i < j}^N V(r_{ij}),\n",
      "\\label{Hnuclei} \\tag{5}\n",
      "\\end{equation}\n",
      "$$"
     ]
    },
    {
     "cell_type": "markdown",
     "metadata": {},
     "source": [
      "with"
     ]
    },
    {
     "cell_type": "markdown",
     "metadata": {},
     "source": [
      "<!-- Equation labels as ordinary links -->\n",
      "<div id=\"hinuclei\"></div>\n",
      "\n",
      "$$\n",
      "\\begin{equation}\n",
      "  H_0=\\sum_{i=1}^N \\hat{h}_0(x_i) =  \\sum_{i=1}^N\\left(\\hat{t}(x_i) + \\hat{u}_{\\mathrm{ext}}(x_i)\\right).\n",
      "\\label{hinuclei} \\tag{6}\n",
      "\\end{equation}\n",
      "$$"
     ]
    },
    {
     "cell_type": "markdown",
     "metadata": {},
     "source": [
      "The onebody part $u_{\\mathrm{ext}}(x_i)$ is normally approximated by a harmonic oscillator potential or the Coulomb interaction an electron feels from the nucleus. However, other potentials are fully possible, such as \n",
      "one derived from the self-consistent solution of the Hartree-Fock equations.\n",
      "\n",
      "\n",
      "\n",
      "\n",
      "### Definitions and notations\n",
      "Our Hamiltonian is invariant under the permutation (interchange) of two particles. % (exercise here, prove it)\n",
      "Since we deal with fermions however, the total wave function is antisymmetric.\n",
      "Let $\\hat{P}$ be an operator which interchanges two particles.\n",
      "Due to the symmetries we have ascribed to our Hamiltonian, this operator commutes with the total Hamiltonian,"
     ]
    },
    {
     "cell_type": "markdown",
     "metadata": {},
     "source": [
      "$$\n",
      "[\\hat{H},\\hat{P}] = 0,\n",
      "$$"
     ]
    },
    {
     "cell_type": "markdown",
     "metadata": {},
     "source": [
      "meaning that $\\Psi_{\\lambda}(x_1, x_2, \\dots , x_N)$ is an eigenfunction of \n",
      "$\\hat{P}$ as well, that is"
     ]
    },
    {
     "cell_type": "markdown",
     "metadata": {},
     "source": [
      "$$\n",
      "\\hat{P}_{ij}\\Psi_{\\lambda}(x_1, x_2, \\dots,x_i,\\dots,x_j,\\dots,x_N)=\n",
      "\\beta\\Psi_{\\lambda}(x_1, x_2, \\dots,x_i,\\dots,x_j,\\dots,x_N),\n",
      "$$"
     ]
    },
    {
     "cell_type": "markdown",
     "metadata": {},
     "source": [
      "where $\\beta$ is the eigenvalue of $\\hat{P}$. We have introduced the suffix $ij$ in order to indicate that we permute particles $i$ and $j$.\n",
      "The Pauli principle tells us that the total wave function for a system of fermions\n",
      "has to be antisymmetric, resulting in the eigenvalue $\\beta = -1$.\n",
      "\n",
      "\n",
      "\n",
      "### Definitions and notations\n",
      "In our case we assume that  we can approximate the exact eigenfunction with a Slater determinant"
     ]
    },
    {
     "cell_type": "markdown",
     "metadata": {},
     "source": [
      "<!-- Equation labels as ordinary links -->\n",
      "<div id=\"eq:HartreeFockDet\"></div>\n",
      "\n",
      "$$\n",
      "\\begin{equation}\n",
      "   \\Phi(x_1, x_2,\\dots ,x_N,\\alpha,\\beta,\\dots, \\sigma)=\\frac{1}{\\sqrt{N!}}\n",
      "\\left| \\begin{array}{ccccc} \\psi_{\\alpha}(x_1)& \\psi_{\\alpha}(x_2)& \\dots & \\dots & \\psi_{\\alpha}(x_N)\\\\\n",
      "                            \\psi_{\\beta}(x_1)&\\psi_{\\beta}(x_2)& \\dots & \\dots & \\psi_{\\beta}(x_N)\\\\  \n",
      "                            \\dots & \\dots & \\dots & \\dots & \\dots \\\\\n",
      "                            \\dots & \\dots & \\dots & \\dots & \\dots \\\\\n",
      "                     \\psi_{\\sigma}(x_1)&\\psi_{\\sigma}(x_2)& \\dots & \\dots & \\psi_{\\sigma}(x_N)\\end{array} \\right|, \\label{eq:HartreeFockDet} \\tag{7}\n",
      "\\end{equation}\n",
      "$$"
     ]
    },
    {
     "cell_type": "markdown",
     "metadata": {},
     "source": [
      "where  $x_i$  stand for the coordinates and spin values of a particle $i$ and $\\alpha,\\beta,\\dots, \\gamma$ \n",
      "are quantum numbers needed to describe remaining quantum numbers.\n",
      "\n",
      "\n",
      "\n",
      "### Definitions and notations\n",
      "The single-particle function $\\psi_{\\alpha}(x_i)$  are eigenfunctions of the onebody\n",
      "Hamiltonian $h_i$, that is"
     ]
    },
    {
     "cell_type": "markdown",
     "metadata": {},
     "source": [
      "$$\n",
      "\\hat{h}_0(x_i)=\\hat{t}(x_i) + \\hat{u}_{\\mathrm{ext}}(x_i),\n",
      "$$"
     ]
    },
    {
     "cell_type": "markdown",
     "metadata": {},
     "source": [
      "with eigenvalues"
     ]
    },
    {
     "cell_type": "markdown",
     "metadata": {},
     "source": [
      "$$\n",
      "\\hat{h}_0(x_i) \\psi_{\\alpha}(x_i)=\\left(\\hat{t}(x_i) + \\hat{u}_{\\mathrm{ext}}(x_i)\\right)\\psi_{\\alpha}(x_i)=\\varepsilon_{\\alpha}\\psi_{\\alpha}(x_i).\n",
      "$$"
     ]
    },
    {
     "cell_type": "markdown",
     "metadata": {},
     "source": [
      "The energies $\\varepsilon_{\\alpha}$ are the so-called non-interacting single-particle energies, or unperturbed energies. \n",
      "The total energy is in this case the sum over all  single-particle energies, if no two-body or more complicated\n",
      "many-body interactions are present.\n",
      "\n",
      "\n",
      "\n",
      "### Definitions and notations\n",
      "Let us denote the ground state energy by $E_0$. According to the\n",
      "variational principle we have"
     ]
    },
    {
     "cell_type": "markdown",
     "metadata": {},
     "source": [
      "$$\n",
      "E_0 \\le E[\\Phi] = \\int \\Phi^*\\hat{H}\\Phi d\\mathbf{\\tau}\n",
      "$$"
     ]
    },
    {
     "cell_type": "markdown",
     "metadata": {},
     "source": [
      "where $\\Phi$ is a trial function which we assume to be normalized"
     ]
    },
    {
     "cell_type": "markdown",
     "metadata": {},
     "source": [
      "$$\n",
      "\\int \\Phi^*\\Phi d\\mathbf{\\tau} = 1,\n",
      "$$"
     ]
    },
    {
     "cell_type": "markdown",
     "metadata": {},
     "source": [
      "where we have used the shorthand $d\\mathbf{\\tau}=d\\mathbf{r}_1d\\mathbf{r}_2\\dots d\\mathbf{r}_N$.\n",
      "\n",
      "\n",
      "\n",
      "### Definitions and notations\n",
      "In the Hartree-Fock method the trial function is the Slater\n",
      "determinant of Eq. [(7)](#eq:HartreeFockDet) which can be rewritten as"
     ]
    },
    {
     "cell_type": "markdown",
     "metadata": {},
     "source": [
      "$$\n",
      "\\Phi(x_1,x_2,\\dots,x_N,\\alpha,\\beta,\\dots,\\nu) = \\frac{1}{\\sqrt{N!}}\\sum_{P} (-)^P\\hat{P}\\psi_{\\alpha}(x_1)\n",
      "    \\psi_{\\beta}(x_2)\\dots\\psi_{\\nu}(x_N)=\\sqrt{N!}\\hat{A}\\Phi_H,\n",
      "$$"
     ]
    },
    {
     "cell_type": "markdown",
     "metadata": {},
     "source": [
      "where we have introduced the antisymmetrization operator $\\hat{A}$ defined by the \n",
      "summation over all possible permutations of two particles.\n",
      "\n",
      "\n",
      "\n",
      "### Definitions and notations\n",
      "It is defined as"
     ]
    },
    {
     "cell_type": "markdown",
     "metadata": {},
     "source": [
      "<!-- Equation labels as ordinary links -->\n",
      "<div id=\"antiSymmetryOperator\"></div>\n",
      "\n",
      "$$\n",
      "\\begin{equation}\n",
      "  \\hat{A} = \\frac{1}{N!}\\sum_{p} (-)^p\\hat{P},\n",
      "\\label{antiSymmetryOperator} \\tag{8}\n",
      "\\end{equation}\n",
      "$$"
     ]
    },
    {
     "cell_type": "markdown",
     "metadata": {},
     "source": [
      "with $p$ standing for the number of permutations. We have introduced for later use the so-called\n",
      "Hartree-function, defined by the simple product of all possible single-particle functions"
     ]
    },
    {
     "cell_type": "markdown",
     "metadata": {},
     "source": [
      "$$\n",
      "\\Phi_H(x_1,x_2,\\dots,x_N,\\alpha,\\beta,\\dots,\\nu) =\n",
      "  \\psi_{\\alpha}(x_1)\n",
      "    \\psi_{\\beta}(x_2)\\dots\\psi_{\\nu}(x_N).\n",
      "$$"
     ]
    },
    {
     "cell_type": "markdown",
     "metadata": {},
     "source": [
      "### Definitions and notations\n",
      "Both $\\hat{H}_0$ and $\\hat{H}_I$ are invariant under all possible permutations of any two particles\n",
      "and hence commute with $\\hat{A}$"
     ]
    },
    {
     "cell_type": "markdown",
     "metadata": {},
     "source": [
      "<!-- Equation labels as ordinary links -->\n",
      "<div id=\"commutionAntiSym\"></div>\n",
      "\n",
      "$$\n",
      "\\begin{equation}\n",
      "  [H_0,\\hat{A}] = [H_I,\\hat{A}] = 0. \\label{commutionAntiSym} \\tag{9}\n",
      "\\end{equation}\n",
      "$$"
     ]
    },
    {
     "cell_type": "markdown",
     "metadata": {},
     "source": [
      "Furthermore, $\\hat{A}$ satisfies"
     ]
    },
    {
     "cell_type": "markdown",
     "metadata": {},
     "source": [
      "<!-- Equation labels as ordinary links -->\n",
      "<div id=\"AntiSymSquared\"></div>\n",
      "\n",
      "$$\n",
      "\\begin{equation}\n",
      "  \\hat{A}^2 = \\hat{A},  \\label{AntiSymSquared} \\tag{10}\n",
      "\\end{equation}\n",
      "$$"
     ]
    },
    {
     "cell_type": "markdown",
     "metadata": {},
     "source": [
      "since every permutation of the Slater\n",
      "determinant reproduces it.\n",
      "\n",
      "\n",
      "\n",
      "### Definitions and notations\n",
      "The expectation value of $\\hat{H}_0$"
     ]
    },
    {
     "cell_type": "markdown",
     "metadata": {},
     "source": [
      "$$\n",
      "\\int \\Phi^*\\hat{H}_0\\Phi d\\mathbf{\\tau} \n",
      "  = N! \\int \\Phi_H^*\\hat{A}\\hat{H}_0\\hat{A}\\Phi_H d\\mathbf{\\tau}\n",
      "$$"
     ]
    },
    {
     "cell_type": "markdown",
     "metadata": {},
     "source": [
      "is readily reduced to"
     ]
    },
    {
     "cell_type": "markdown",
     "metadata": {},
     "source": [
      "$$\n",
      "\\int \\Phi^*\\hat{H}_0\\Phi d\\mathbf{\\tau} \n",
      "  = N! \\int \\Phi_H^*\\hat{H}_0\\hat{A}\\Phi_H d\\mathbf{\\tau},\n",
      "$$"
     ]
    },
    {
     "cell_type": "markdown",
     "metadata": {},
     "source": [
      "where we have used Eqs. [(9)](#commutionAntiSym) and\n",
      "[(10)](#AntiSymSquared). The next step is to replace the antisymmetrization\n",
      "operator by its definition and to\n",
      "replace $\\hat{H}_0$ with the sum of one-body operators"
     ]
    },
    {
     "cell_type": "markdown",
     "metadata": {},
     "source": [
      "$$\n",
      "\\int \\Phi^*\\hat{H}_0\\Phi  d\\mathbf{\\tau}\n",
      "  = \\sum_{i=1}^N \\sum_{p} (-)^p\\int \n",
      "  \\Phi_H^*\\hat{h}_0\\hat{P}\\Phi_H d\\mathbf{\\tau}.\n",
      "$$"
     ]
    },
    {
     "cell_type": "markdown",
     "metadata": {},
     "source": [
      "### Definitions and notations\n",
      "The integral vanishes if two or more particles are permuted in only one\n",
      "of the Hartree-functions $\\Phi_H$ because the individual single-particle wave functions are\n",
      "orthogonal. We obtain then"
     ]
    },
    {
     "cell_type": "markdown",
     "metadata": {},
     "source": [
      "$$\n",
      "\\int \\Phi^*\\hat{H}_0\\Phi  d\\mathbf{\\tau}= \\sum_{i=1}^N \\int \\Phi_H^*\\hat{h}_0\\Phi_H  d\\mathbf{\\tau}.\n",
      "$$"
     ]
    },
    {
     "cell_type": "markdown",
     "metadata": {},
     "source": [
      "Orthogonality of the single-particle functions allows us to further simplify the integral, and we\n",
      "arrive at the following expression for the expectation values of the\n",
      "sum of one-body Hamiltonians"
     ]
    },
    {
     "cell_type": "markdown",
     "metadata": {},
     "source": [
      "<!-- Equation labels as ordinary links -->\n",
      "<div id=\"H1Expectation\"></div>\n",
      "\n",
      "$$\n",
      "\\begin{equation}\n",
      "  \\int \\Phi^*\\hat{H}_0\\Phi  d\\mathbf{\\tau}\n",
      "  = \\sum_{\\mu=1}^N \\int \\psi_{\\mu}^*(\\mathbf{r})\\hat{h}_0\\psi_{\\mu}(\\mathbf{r})\n",
      "  d\\mathbf{r}.\n",
      "  \\label{H1Expectation} \\tag{11}\n",
      "\\end{equation}\n",
      "$$"
     ]
    },
    {
     "cell_type": "markdown",
     "metadata": {},
     "source": [
      "### Definitions and notations\n",
      "We introduce the following shorthand for the above integral"
     ]
    },
    {
     "cell_type": "markdown",
     "metadata": {},
     "source": [
      "$$\n",
      "\\langle \\mu | \\hat{h}_0 | \\mu \\rangle = \\int \\psi_{\\mu}^*(\\mathbf{r})\\hat{h}_0\\psi_{\\mu}(\\mathbf{r}),\n",
      "$$"
     ]
    },
    {
     "cell_type": "markdown",
     "metadata": {},
     "source": [
      "and rewrite Eq. [(11)](#H1Expectation) as"
     ]
    },
    {
     "cell_type": "markdown",
     "metadata": {},
     "source": [
      "<!-- Equation labels as ordinary links -->\n",
      "<div id=\"H1Expectation1\"></div>\n",
      "\n",
      "$$\n",
      "\\begin{equation}\n",
      "  \\int \\Phi^*\\hat{H}_0\\Phi  d\\mathbf{\\tau}\n",
      "  = \\sum_{\\mu=1}^N \\langle \\mu | \\hat{h}_0 | \\mu \\rangle.\n",
      "  \\label{H1Expectation1} \\tag{12}\n",
      "\\end{equation}\n",
      "$$"
     ]
    },
    {
     "cell_type": "markdown",
     "metadata": {},
     "source": [
      "### Definitions and notations\n",
      "The expectation value of the two-body part of the Hamiltonian is obtained in a\n",
      "similar manner. We have"
     ]
    },
    {
     "cell_type": "markdown",
     "metadata": {},
     "source": [
      "$$\n",
      "\\int \\Phi^*\\hat{H}_I\\Phi d\\mathbf{\\tau} \n",
      "  = N! \\int \\Phi_H^*\\hat{A}\\hat{H}_I\\hat{A}\\Phi_H d\\mathbf{\\tau},\n",
      "$$"
     ]
    },
    {
     "cell_type": "markdown",
     "metadata": {},
     "source": [
      "which reduces to"
     ]
    },
    {
     "cell_type": "markdown",
     "metadata": {},
     "source": [
      "$$\n",
      "\\int \\Phi^*\\hat{H}_I\\Phi d\\mathbf{\\tau} \n",
      "  = \\sum_{i\\le j=1}^N \\sum_{p} (-)^p\\int \n",
      "  \\Phi_H^*V(r_{ij})\\hat{P}\\Phi_H d\\mathbf{\\tau},\n",
      "$$"
     ]
    },
    {
     "cell_type": "markdown",
     "metadata": {},
     "source": [
      "by following the same arguments as for the one-body\n",
      "Hamiltonian.\n",
      "\n",
      "\n",
      "\n",
      "### Definitions and notations\n",
      "Because of the dependence on the inter-particle distance $r_{ij}$,  permutations of\n",
      "any two particles no longer vanish, and we get"
     ]
    },
    {
     "cell_type": "markdown",
     "metadata": {},
     "source": [
      "$$\n",
      "\\int \\Phi^*\\hat{H}_I\\Phi d\\mathbf{\\tau} \n",
      "  = \\sum_{i < j=1}^N \\int  \n",
      "  \\Phi_H^*V(r_{ij})(1-P_{ij})\\Phi_H d\\mathbf{\\tau}.\n",
      "$$"
     ]
    },
    {
     "cell_type": "markdown",
     "metadata": {},
     "source": [
      "where $P_{ij}$ is the permutation operator that interchanges\n",
      "particle $i$ and particle $j$. Again we use the assumption that the single-particle wave functions\n",
      "are orthogonal.\n",
      "\n",
      "\n",
      "\n",
      "\n",
      "### Definitions and notations\n",
      "We obtain"
     ]
    },
    {
     "cell_type": "markdown",
     "metadata": {},
     "source": [
      "<!-- Equation labels as ordinary links -->\n",
      "<div id=\"H2Expectation\"></div>\n",
      "\n",
      "$$\n",
      "\\begin{equation}\n",
      "\\begin{split}\n",
      "  \\int \\Phi^*\\hat{H}_I\\Phi d\\mathbf{\\tau} \n",
      "  = \\frac{1}{2}\\sum_{\\mu=1}^N\\sum_{\\nu=1}^N\n",
      "    &\\left[ \\int \\psi_{\\mu}^*(x_i)\\psi_{\\nu}^*(x_j)V(r_{ij})\\psi_{\\mu}(x_i)\\psi_{\\nu}(x_j)\n",
      "    dx_ix_j \\right.\\\\\n",
      "  &\\left.\n",
      "  - \\int \\psi_{\\mu}^*(x_i)\\psi_{\\nu}^*(x_j)\n",
      "  V(r_{ij})\\psi_{\\nu}(x_i)\\psi_{\\mu}(x_j)\n",
      "  dx_ix_j\n",
      "  \\right]. \\label{H2Expectation} \\tag{13}\n",
      "\\end{split}\n",
      "\\end{equation}\n",
      "$$"
     ]
    },
    {
     "cell_type": "markdown",
     "metadata": {},
     "source": [
      "The first term is the so-called direct term. It is frequently also called the  Hartree term, \n",
      "while the second is due to the Pauli principle and is called\n",
      "the exchange term or just the Fock term.\n",
      "The factor  $1/2$ is introduced because we now run over\n",
      "all pairs twice.\n",
      "\n",
      "\n",
      "\n",
      "### Definitions and notations\n",
      "The last equation allows us to  introduce some further definitions.  \n",
      "The single-particle wave functions $\\psi_{\\mu}(x)$, defined by the quantum numbers $\\mu$ and $x$\n",
      "are defined as the overlap"
     ]
    },
    {
     "cell_type": "markdown",
     "metadata": {},
     "source": [
      "$$\n",
      "\\psi_{\\alpha}(x)  = \\langle x | \\alpha \\rangle .\n",
      "$$"
     ]
    },
    {
     "cell_type": "markdown",
     "metadata": {},
     "source": [
      "### Definitions and notations\n",
      "We introduce the following shorthands for the above two integrals"
     ]
    },
    {
     "cell_type": "markdown",
     "metadata": {},
     "source": [
      "$$\n",
      "\\langle \\mu\\nu|\\hat{v}|\\mu\\nu\\rangle =  \\int \\psi_{\\mu}^*(x_i)\\psi_{\\nu}^*(x_j)V(r_{ij})\\psi_{\\mu}(x_i)\\psi_{\\nu}(x_j)\n",
      "    dx_ix_j,\n",
      "$$"
     ]
    },
    {
     "cell_type": "markdown",
     "metadata": {},
     "source": [
      "and"
     ]
    },
    {
     "cell_type": "markdown",
     "metadata": {},
     "source": [
      "$$\n",
      "\\langle \\mu\\nu|\\hat{v}|\\nu\\mu\\rangle = \\int \\psi_{\\mu}^*(x_i)\\psi_{\\nu}^*(x_j)\n",
      "  V(r_{ij})\\psi_{\\nu}(x_i)\\psi_{\\mu}(x_j)\n",
      "  dx_ix_j.\n",
      "$$"
     ]
    },
    {
     "cell_type": "markdown",
     "metadata": {},
     "source": [
      "### Definitions and notations\n",
      "The direct and exchange matrix elements can be  brought together if we define the antisymmetrized matrix element"
     ]
    },
    {
     "cell_type": "markdown",
     "metadata": {},
     "source": [
      "$$\n",
      "\\langle \\mu\\nu|\\hat{v}|\\mu\\nu\\rangle_{\\mathrm{AS}}= \\langle \\mu\\nu|\\hat{v}|\\mu\\nu\\rangle-\\langle \\mu\\nu|\\hat{v}|\\nu\\mu\\rangle,\n",
      "$$"
     ]
    },
    {
     "cell_type": "markdown",
     "metadata": {},
     "source": [
      "or for a general matrix element"
     ]
    },
    {
     "cell_type": "markdown",
     "metadata": {},
     "source": [
      "$$\n",
      "\\langle \\mu\\nu|\\hat{v}|\\sigma\\tau\\rangle_{\\mathrm{AS}}= \\langle \\mu\\nu|\\hat{v}|\\sigma\\tau\\rangle-\\langle \\mu\\nu|\\hat{v}|\\tau\\sigma\\rangle.\n",
      "$$"
     ]
    },
    {
     "cell_type": "markdown",
     "metadata": {},
     "source": [
      "It has the symmetry property"
     ]
    },
    {
     "cell_type": "markdown",
     "metadata": {},
     "source": [
      "$$\n",
      "\\langle \\mu\\nu|\\hat{v}|\\sigma\\tau\\rangle_{\\mathrm{AS}}= -\\langle \\mu\\nu|\\hat{v}|\\tau\\sigma\\rangle_{\\mathrm{AS}}=-\\langle \\nu\\mu|\\hat{v}|\\sigma\\tau\\rangle_{\\mathrm{AS}}.\n",
      "$$"
     ]
    },
    {
     "cell_type": "markdown",
     "metadata": {},
     "source": [
      "### Definitions and notations\n",
      "The antisymmetric matrix element is also hermitian, implying"
     ]
    },
    {
     "cell_type": "markdown",
     "metadata": {},
     "source": [
      "$$\n",
      "\\langle \\mu\\nu|\\hat{v}|\\sigma\\tau\\rangle_{\\mathrm{AS}}= \\langle \\sigma\\tau|\\hat{v}|\\mu\\nu\\rangle_{\\mathrm{AS}}.\n",
      "$$"
     ]
    },
    {
     "cell_type": "markdown",
     "metadata": {},
     "source": [
      "With these notations we rewrite Eq. [(13)](#H2Expectation) as"
     ]
    },
    {
     "cell_type": "markdown",
     "metadata": {},
     "source": [
      "<!-- Equation labels as ordinary links -->\n",
      "<div id=\"H2Expectation2\"></div>\n",
      "\n",
      "$$\n",
      "\\begin{equation}\n",
      "  \\int \\Phi^*\\hat{H}_I\\Phi d\\mathbf{\\tau} \n",
      "  = \\frac{1}{2}\\sum_{\\mu=1}^N\\sum_{\\nu=1}^N \\langle \\mu\\nu|\\hat{v}|\\mu\\nu\\rangle_{\\mathrm{AS}}.\n",
      "\\label{H2Expectation2} \\tag{14}\n",
      "\\end{equation}\n",
      "$$"
     ]
    },
    {
     "cell_type": "markdown",
     "metadata": {},
     "source": [
      "### Definitions and notations\n",
      "Combining Eqs. [(12)](#H1Expectation1) and\n",
      "[(14)](#H2Expectation2) we obtain the energy functional"
     ]
    },
    {
     "cell_type": "markdown",
     "metadata": {},
     "source": [
      "<!-- Equation labels as ordinary links -->\n",
      "<div id=\"FunctionalEPhi\"></div>\n",
      "\n",
      "$$\n",
      "\\begin{equation}\n",
      "  E[\\Phi] \n",
      "  = \\sum_{\\mu=1}^N \\langle \\mu | \\hat{h}_0 | \\mu \\rangle +\n",
      "  \\frac{1}{2}\\sum_{{\\mu}=1}^N\\sum_{{\\nu}=1}^N \\langle \\mu\\nu|\\hat{v}|\\mu\\nu\\rangle_{\\mathrm{AS}}.\n",
      "\\label{FunctionalEPhi} \\tag{15}\n",
      "\\end{equation}\n",
      "$$"
     ]
    },
    {
     "cell_type": "markdown",
     "metadata": {},
     "source": [
      "which we will use as our starting point for the Hartree-Fock calculations later in this course."
     ]
    }
   ],
   "metadata": {}
  }
 ]
}
